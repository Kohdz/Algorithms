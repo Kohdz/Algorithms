{
 "cells": [
  {
   "cell_type": "code",
   "execution_count": 1,
   "metadata": {},
   "outputs": [],
   "source": [
    "data = [1, 2, 3, -9, 5, 7, -99, 2, 8] # Should be 12"
   ]
  },
  {
   "cell_type": "code",
   "execution_count": 24,
   "metadata": {},
   "outputs": [],
   "source": [
    "def max_subarr_brute(data):\n",
    "    \n",
    "    global_max = 0\n",
    "    indices = []\n",
    "    for x in range(len(data)+1):\n",
    "        for j in range(len(data)+1):\n",
    "            if data[x:j]:\n",
    "                curr_max = sum(data[x:j])\n",
    "                if curr_max > global_max:\n",
    "                    global_max = curr_max\n",
    "                    indices.append((x, j-1))\n",
    "    \n",
    "    return global_max, indices.pop()"
   ]
  },
  {
   "cell_type": "code",
   "execution_count": 25,
   "metadata": {},
   "outputs": [
    {
     "data": {
      "text/plain": [
       "(12, (4, 5))"
      ]
     },
     "execution_count": 25,
     "metadata": {},
     "output_type": "execute_result"
    }
   ],
   "source": [
    "max_subarr_brute(data)"
   ]
  },
  {
   "cell_type": "markdown",
   "metadata": {},
   "source": [
    "Brute force is $O(n^2)$. To get a better result, we are going to use kadan'es algorithm. Essentiall, all were doing is caching the previous max, we we dont have to do so many comparsions. This is dynamic programming"
   ]
  },
  {
   "cell_type": "code",
   "execution_count": 31,
   "metadata": {},
   "outputs": [
    {
     "name": "stdout",
     "output_type": "stream",
     "text": [
      "12\n"
     ]
    }
   ],
   "source": [
    "def kadane(A):\n",
    "    max_current = max_global = A[0]\n",
    "    \n",
    "    for i in range(len(A)-1):\n",
    "        max_current = max(A[i], max_current + A[i])\n",
    "        \n",
    "        if max_current > max_global:\n",
    "            max_global = max_current\n",
    "    \n",
    "    return max_global\n",
    "\n",
    "\n",
    "data = [1, 2, 3, -9, 5, 7, -99, 2, 8] # Should be 12\n",
    "print(kadane(data ))"
   ]
  },
  {
   "cell_type": "markdown",
   "metadata": {},
   "source": []
  },
  {
   "cell_type": "code",
   "execution_count": null,
   "metadata": {},
   "outputs": [],
   "source": []
  }
 ],
 "metadata": {
  "kernelspec": {
   "display_name": "Python 3",
   "language": "python",
   "name": "python3"
  },
  "language_info": {
   "codemirror_mode": {
    "name": "ipython",
    "version": 3
   },
   "file_extension": ".py",
   "mimetype": "text/x-python",
   "name": "python",
   "nbconvert_exporter": "python",
   "pygments_lexer": "ipython3",
   "version": "3.7.2"
  }
 },
 "nbformat": 4,
 "nbformat_minor": 4
}
